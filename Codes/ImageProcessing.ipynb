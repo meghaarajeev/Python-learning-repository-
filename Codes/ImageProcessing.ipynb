{
 "cells": [
  {
   "cell_type": "code",
   "execution_count": 2,
   "id": "cffed57b-b742-4f81-b3f5-945eb8a73a93",
   "metadata": {},
   "outputs": [
    {
     "name": "stdout",
     "output_type": "stream",
     "text": [
      "Requirement already satisfied: pillow in c:\\users\\hp\\appdata\\local\\programs\\python\\python39\\lib\\site-packages (10.3.0)\n",
      "Note: you may need to restart the kernel to use updated packages.\n"
     ]
    }
   ],
   "source": [
    "pip install pillow\n"
   ]
  },
  {
   "cell_type": "code",
   "execution_count": 4,
   "id": "4d26d9af-ffd9-44ef-bef7-fdbe2ff9f7f3",
   "metadata": {},
   "outputs": [],
   "source": [
    " from images import Image\n"
   ]
  },
  {
   "cell_type": "code",
   "execution_count": 5,
   "id": "1973d125-2b6c-42dc-887e-08be62be2228",
   "metadata": {},
   "outputs": [],
   "source": [
    "image=Image(\"pic1.gif\")"
   ]
  },
  {
   "cell_type": "code",
   "execution_count": 6,
   "id": "65206879-9fdf-42ad-aa97-ae7722484021",
   "metadata": {},
   "outputs": [],
   "source": [
    "image.draw()"
   ]
  },
  {
   "cell_type": "code",
   "execution_count": 7,
   "id": "a9577b57-0c61-4783-954c-4c69ff461681",
   "metadata": {},
   "outputs": [
    {
     "data": {
      "text/plain": [
       "1200"
      ]
     },
     "execution_count": 7,
     "metadata": {},
     "output_type": "execute_result"
    }
   ],
   "source": [
    "image.getWidth()"
   ]
  },
  {
   "cell_type": "code",
   "execution_count": 8,
   "id": "69d0f0d7-d60e-483b-9587-62df7aef999a",
   "metadata": {},
   "outputs": [
    {
     "data": {
      "text/plain": [
       "676"
      ]
     },
     "execution_count": 8,
     "metadata": {},
     "output_type": "execute_result"
    }
   ],
   "source": [
    "image.getHeight()"
   ]
  },
  {
   "cell_type": "code",
   "execution_count": 9,
   "id": "122f37d9-6ba6-4756-8161-8133018e04b8",
   "metadata": {},
   "outputs": [
    {
     "name": "stdout",
     "output_type": "stream",
     "text": [
      "File name: pic1.gif\n",
      "Width:  1200\n",
      "Height: 676\n"
     ]
    }
   ],
   "source": [
    "print(image)"
   ]
  },
  {
   "cell_type": "code",
   "execution_count": 11,
   "id": "5dd2e353-d272-48ce-bee2-5801a1c35092",
   "metadata": {},
   "outputs": [
    {
     "data": {
      "text/plain": [
       "(174, 207, 227)"
      ]
     },
     "execution_count": 11,
     "metadata": {},
     "output_type": "execute_result"
    }
   ],
   "source": [
    "image.getPixel(0,0)"
   ]
  },
  {
   "cell_type": "code",
   "execution_count": 14,
   "id": "38c5fd18-eef9-4cdb-bbd2-875648391aaf",
   "metadata": {},
   "outputs": [],
   "source": [
    "image.setPixel(0,6,(255,0,0))"
   ]
  },
  {
   "cell_type": "code",
   "execution_count": 15,
   "id": "27142792-cdbb-41ca-ba98-fbc311117b8a",
   "metadata": {},
   "outputs": [],
   "source": [
    "image.draw()"
   ]
  },
  {
   "cell_type": "code",
   "execution_count": 23,
   "id": "b513a603-9995-40cf-a592-d0cd1d464a67",
   "metadata": {},
   "outputs": [],
   "source": [
    "\n",
    "\n",
    "x=image.getHeight()//2\n",
    "for y in range(1200):\n",
    "    image.setPixel(x,y,(200,20,20))\n",
    "image.draw()\n"
   ]
  },
  {
   "cell_type": "code",
   "execution_count": 21,
   "id": "3b2e604c-8dc3-4699-aaf3-16ed63dd1ce3",
   "metadata": {},
   "outputs": [],
   "source": [
    "#Line Drawing in canvas\n",
    "i=Image(400,400)\n",
    "x=i.getWidth()//2\n",
    "for y in range(400):\n",
    "    i.setPixel(x,y,(255,20,20))\n",
    "i.draw()"
   ]
  },
  {
   "cell_type": "code",
   "execution_count": 25,
   "id": "05cfccac-94a5-44fe-b35a-30099e78a360",
   "metadata": {},
   "outputs": [
    {
     "name": "stdout",
     "output_type": "stream",
     "text": [
      "(0, 0) (1, 0) \n",
      "(0, 1) (1, 1) \n"
     ]
    }
   ],
   "source": [
    "height=2\n",
    "width=2\n",
    "for y in range(height):\n",
    "    for x in range(width):\n",
    "        print((x,y),end=\" \")\n",
    "    print()"
   ]
  },
  {
   "cell_type": "code",
   "execution_count": 31,
   "id": "5fdfadfe-33b4-4e5a-a00a-5416a58e0003",
   "metadata": {},
   "outputs": [],
   "source": [
    "# Setting all pixels in an image to red color.\n",
    "a=Image(400,400)\n",
    "for y in range(400):\n",
    "    for x in range(400):\n",
    "        a.setPixel(x,y,(255,0,0))\n",
    "a.draw()"
   ]
  },
  {
   "cell_type": "code",
   "execution_count": 39,
   "id": "919109b8-605d-4f48-8a89-dc7103346db7",
   "metadata": {},
   "outputs": [],
   "source": [
    "image=Image(\"pic1.gif\")\n",
    "(r,g,b)=image.getPixel(0,0)"
   ]
  },
  {
   "cell_type": "code",
   "execution_count": 40,
   "id": "cef02a95-f0b4-4b27-8cf3-7d6f79bded2a",
   "metadata": {},
   "outputs": [
    {
     "data": {
      "text/plain": [
       "174"
      ]
     },
     "execution_count": 40,
     "metadata": {},
     "output_type": "execute_result"
    }
   ],
   "source": [
    "r"
   ]
  },
  {
   "cell_type": "code",
   "execution_count": 41,
   "id": "1be3617f-3a31-40ac-af6d-0ce33b10daa5",
   "metadata": {},
   "outputs": [
    {
     "data": {
      "text/plain": [
       "207"
      ]
     },
     "execution_count": 41,
     "metadata": {},
     "output_type": "execute_result"
    }
   ],
   "source": [
    "g"
   ]
  },
  {
   "cell_type": "code",
   "execution_count": 42,
   "id": "9929d7b6-5ddd-462b-8af1-4ee495a14751",
   "metadata": {},
   "outputs": [
    {
     "data": {
      "text/plain": [
       "227"
      ]
     },
     "execution_count": 42,
     "metadata": {},
     "output_type": "execute_result"
    }
   ],
   "source": [
    "b"
   ]
  },
  {
   "cell_type": "code",
   "execution_count": 43,
   "id": "06fbfa90-a372-4865-8052-ab4f9c0aa880",
   "metadata": {},
   "outputs": [],
   "source": [
    "def average(triple):\n",
    "    (a,b,c)=triple\n",
    "    return (a+b+c)//3"
   ]
  },
  {
   "cell_type": "code",
   "execution_count": 45,
   "id": "a6864e1b-17e0-49ae-bafa-3a28915bcd2f",
   "metadata": {},
   "outputs": [
    {
     "data": {
      "text/plain": [
       "50"
      ]
     },
     "execution_count": 45,
     "metadata": {},
     "output_type": "execute_result"
    }
   ],
   "source": [
    "average((40,50,60))"
   ]
  },
  {
   "cell_type": "code",
   "execution_count": 68,
   "id": "43e3c308-f12f-47f2-b8e5-e3522bf5cf0b",
   "metadata": {},
   "outputs": [],
   "source": [
    "# Greyscale\n",
    "\n",
    "from images import Image\n",
    "def greyscale(i):\n",
    "   for y in range(i.getHeight()):\n",
    "     for x in range(i.getWidth()):\n",
    "        (r,g,b)=i.getPixel(x,y)\n",
    "        r=int(0.29*r)\n",
    "        g=int(0.57*g)\n",
    "        b=int(0.11*b)\n",
    "        l=r+g+b\n",
    "        i.setPixel(x,y,(l,l,l))\n",
    "         \n"
   ]
  },
  {
   "cell_type": "code",
   "execution_count": 69,
   "id": "b44c75b1-7614-44cf-9809-be086f4da4cd",
   "metadata": {},
   "outputs": [],
   "source": [
    "i=Image(\"pic1.gif\")\n",
    "greyscale(i)\n",
    "i.draw()"
   ]
  },
  {
   "cell_type": "code",
   "execution_count": 4,
   "id": "54fb8c0c-89e3-4a3f-9e23-94147174d8b1",
   "metadata": {},
   "outputs": [],
   "source": [
    "from images import Image\n",
    "\n",
    "def BW(i):\n",
    "    for y in range(i.getHeight()):\n",
    "        for x in range(i.getWidth()):\n",
    "            (r, g, b) = i.getPixel(x, y)\n",
    "            avg = (r + g + b) // 3\n",
    "            if avg < 128:\n",
    "                i.setPixel(x, y, (0, 0, 0))\n",
    "            else:\n",
    "                i.setPixel(x, y, (255, 255, 255))"
   ]
  },
  {
   "cell_type": "code",
   "execution_count": 6,
   "id": "d0122e72-30d9-47b7-8148-4c701527848f",
   "metadata": {},
   "outputs": [],
   "source": [
    "i=Image(\"pic1.gif\")\n",
    "BW(i)\n",
    "i.draw()"
   ]
  },
  {
   "cell_type": "code",
   "execution_count": null,
   "id": "f0bfeda0-49c3-4238-a626-4fc2f72383a6",
   "metadata": {},
   "outputs": [],
   "source": []
  }
 ],
 "metadata": {
  "kernelspec": {
   "display_name": "Python 3 (ipykernel)",
   "language": "python",
   "name": "python3"
  },
  "language_info": {
   "codemirror_mode": {
    "name": "ipython",
    "version": 3
   },
   "file_extension": ".py",
   "mimetype": "text/x-python",
   "name": "python",
   "nbconvert_exporter": "python",
   "pygments_lexer": "ipython3",
   "version": "3.9.6"
  }
 },
 "nbformat": 4,
 "nbformat_minor": 5
}
