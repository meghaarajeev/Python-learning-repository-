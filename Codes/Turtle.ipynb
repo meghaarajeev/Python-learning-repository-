{
 "cells": [
  {
   "cell_type": "code",
   "execution_count": 1,
   "id": "69ec7f16-d5f5-49fe-8249-25a7be6972b8",
   "metadata": {},
   "outputs": [],
   "source": [
    "# SQUARE\n",
    "from turtle import Turtle\n",
    "t=Turtle()\n",
    "\n",
    "def sqr(t,len):\n",
    "    for i in range(4):\n",
    "        t.forward(len)\n",
    "        t.left(90)\n",
    "        \n",
    "sqr(t,100)\n"
   ]
  },
  {
   "cell_type": "code",
   "execution_count": 2,
   "id": "00c4f8a3-2fac-441b-a225-6047ec24c22e",
   "metadata": {},
   "outputs": [],
   "source": [
    "t.clear()"
   ]
  },
  {
   "cell_type": "code",
   "execution_count": 3,
   "id": "2f632ba3-a3fc-47d5-8119-ab1abf4a7dbd",
   "metadata": {},
   "outputs": [],
   "source": [
    "# RADIAL HEXAGON\n",
    "\n",
    "from turtle import Turtle\n",
    "t=Turtle()\n",
    "def hex(t,len):\n",
    "    for i in range(6):\n",
    "        t.forward(len)\n",
    "        t.left(60)\n",
    "def radhex(t,n,length):\n",
    "    for i in range(n):\n",
    "        hex(t,length)\n",
    "        t.left(360/n)\n",
    "radhex(t,50,100)"
   ]
  },
  {
   "cell_type": "code",
   "execution_count": 2,
   "id": "e0a04f0f-6fe4-45e3-9a0e-6f30807bbb51",
   "metadata": {},
   "outputs": [],
   "source": [
    "t.clear()"
   ]
  },
  {
   "cell_type": "code",
   "execution_count": 14,
   "id": "7b8202f7-2af6-4b32-a40d-26204278dd17",
   "metadata": {},
   "outputs": [],
   "source": [
    "t.home()"
   ]
  },
  {
   "cell_type": "code",
   "execution_count": 6,
   "id": "0f83fbaf-cb0f-4058-8287-a283b5d649f0",
   "metadata": {},
   "outputs": [],
   "source": [
    "from turtle import Turtle\n",
    "t=Turtle()\n",
    "t.right(72)\n",
    "t.forward(100)\n",
    "for i in range(4):\n",
    "        t.begin_fill()\n",
    "        t.left(144)\n",
    "        t.forward(100)\n",
    "        t.end_fill()\n",
    "        "
   ]
  },
  {
   "cell_type": "code",
   "execution_count": 12,
   "id": "1b6804f7-6a9f-4ecf-b06c-a40a80958248",
   "metadata": {},
   "outputs": [],
   "source": [
    "t.clear()"
   ]
  },
  {
   "cell_type": "code",
   "execution_count": 8,
   "id": "2a0333a7-0630-4d99-a7c2-444420d8f3e6",
   "metadata": {},
   "outputs": [],
   "source": [
    "t.home()"
   ]
  },
  {
   "cell_type": "code",
   "execution_count": 13,
   "id": "6197402f-7593-4664-a72f-4d2f8188173b",
   "metadata": {},
   "outputs": [],
   "source": [
    "def radcir(t,n,radius) :\n",
    " for i in range(n):\n",
    "  t.speed(0)\n",
    "  t.circle(radius)\n",
    "  t.left(360/n)\n",
    "radcir(t,30,100)"
   ]
  },
  {
   "cell_type": "code",
   "execution_count": null,
   "id": "dd7f4963-11fc-4ff7-94c6-aa8daf1e455d",
   "metadata": {},
   "outputs": [],
   "source": []
  },
  {
   "cell_type": "code",
   "execution_count": null,
   "id": "7987f6f7-e549-4116-9b41-7649b190d4d4",
   "metadata": {},
   "outputs": [],
   "source": []
  }
 ],
 "metadata": {
  "kernelspec": {
   "display_name": "Python 3 (ipykernel)",
   "language": "python",
   "name": "python3"
  },
  "language_info": {
   "codemirror_mode": {
    "name": "ipython",
    "version": 3
   },
   "file_extension": ".py",
   "mimetype": "text/x-python",
   "name": "python",
   "nbconvert_exporter": "python",
   "pygments_lexer": "ipython3",
   "version": "3.9.6"
  }
 },
 "nbformat": 4,
 "nbformat_minor": 5
}
